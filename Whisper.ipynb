{
 "cells": [
  {
   "cell_type": "markdown",
   "id": "f55d3c29",
   "metadata": {},
   "source": [
    "# Create Transcript from File Audio"
   ]
  },
  {
   "cell_type": "markdown",
   "id": "0563e7c2",
   "metadata": {},
   "source": [
    "In this script we create .txt files from interview recordings."
   ]
  },
  {
   "cell_type": "code",
   "execution_count": 1,
   "id": "5ac2aaf9",
   "metadata": {},
   "outputs": [],
   "source": [
    "# pip install whisper: OpenAI ML model for speech recognition\n",
    "# brew install ffmpeg: platform solution to record, convert and stream audio and video.\n",
    "\n",
    "import whisper \n",
    "import os     # To manage directories\n"
   ]
  },
  {
   "cell_type": "markdown",
   "id": "d2bb4045",
   "metadata": {},
   "source": [
    "Specify the root. This must be a folder in which there are subfolders for eaach of the interviews."
   ]
  },
  {
   "cell_type": "code",
   "execution_count": null,
   "id": "133e50c5",
   "metadata": {},
   "outputs": [],
   "source": [
    "base_dir = \"/Users/mattiaalbertini/Desktop/AudioInterviews\""
   ]
  },
  {
   "cell_type": "markdown",
   "id": "9922f133",
   "metadata": {},
   "source": [
    "The following part uploads the base model and passes the audio file to the model: "
   ]
  },
  {
   "cell_type": "code",
   "execution_count": 3,
   "id": "d795db94",
   "metadata": {},
   "outputs": [],
   "source": [
    "#Import the whisper base model\n",
    "model = whisper.load_model(\"base\")"
   ]
  },
  {
   "cell_type": "markdown",
   "id": "e074c435",
   "metadata": {},
   "source": [
    "Now we create a loop that loops in every subfolder (interview, e.g. Giovanni Rossi) looks for the audio (here audio is in m4a, but can be changed to any audio type) and transcripts it. Here we do it in Italian."
   ]
  },
  {
   "cell_type": "code",
   "execution_count": null,
   "id": "1c0bd1ef",
   "metadata": {},
   "outputs": [
    {
     "name": "stdout",
     "output_type": "stream",
     "text": [
      "Transcribing: /Users/mattiaalbertini/Desktop/JRC_project/Interviews/GiovanniRossi/GiovanniRossi.m4a\n"
     ]
    },
    {
     "name": "stderr",
     "output_type": "stream",
     "text": [
      "/Users/mattiaalbertini/Desktop/JRC_project/Interviews/.venv/lib/python3.10/site-packages/whisper/transcribe.py:126: UserWarning: FP16 is not supported on CPU; using FP32 instead\n",
      "  warnings.warn(\"FP16 is not supported on CPU; using FP32 instead\")\n"
     ]
    }
   ],
   "source": [
    "for root, dirs, files in os.walk(base_dir):  # In the root directory get the subdirectories and the file names\n",
    "    for file in files:                       # Create paths by adding root directory + subfolder + file name\n",
    "        if file.endswith(\".m4a\"):            # specify .m4a so that it doesn't break if finds other files. Change it if audio is different\n",
    "            file_path = os.path.join(root, file)\n",
    "            print(f\"Transcribing: {file_path}\")\n",
    "            \n",
    "            # Transcribe\n",
    "            result = model.transcribe(file_path, language='it')  #transcribe audio in file path. Specified it for italian language\n",
    "            \n",
    "            # Get name without extension\n",
    "            base_name = os.path.splitext(file)[0]                \n",
    "            output_path = os.path.join(root, base_name + \".txt\") # Create path to place .txt file\n",
    "            \n",
    "            # Save\n",
    "            with open(output_path, \"w\", encoding=\"utf-8\") as out_file: # Save the .txt file\n",
    "                out_file.write(result[\"text\"])"
   ]
  },
  {
   "cell_type": "markdown",
   "id": "6c74e981",
   "metadata": {},
   "source": [
    "Inspect one .txt:"
   ]
  },
  {
   "cell_type": "code",
   "execution_count": null,
   "id": "11fdb483",
   "metadata": {},
   "outputs": [
    {
     "name": "stdout",
     "output_type": "stream",
     "text": [
      " Ciao come stai, va tutto bene? Ci vediamo domani!\n"
     ]
    }
   ],
   "source": [
    "file_path = \"/Users/mattiaalbertini/Desktop/AudioInterviews/GiovanniRossi/GiovanniRossi.txt\"\n",
    "\n",
    "with open(file_path, \"r\", encoding=\"utf-8\") as f:\n",
    "    transcript = f.read()\n",
    "\n",
    "print(transcript)"
   ]
  }
 ],
 "metadata": {
  "kernelspec": {
   "display_name": ".venv",
   "language": "python",
   "name": "python3"
  },
  "language_info": {
   "codemirror_mode": {
    "name": "ipython",
    "version": 3
   },
   "file_extension": ".py",
   "mimetype": "text/x-python",
   "name": "python",
   "nbconvert_exporter": "python",
   "pygments_lexer": "ipython3",
   "version": "3.10.17"
  }
 },
 "nbformat": 4,
 "nbformat_minor": 5
}
